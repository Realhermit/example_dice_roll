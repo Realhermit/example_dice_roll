{
 "cells": [
  {
   "cell_type": "markdown",
   "metadata": {},
   "source": [
    "### This is an example notebook\n",
    "\n",
    "This is where we will detail prose - theorems, theories, algorithm descriptions then follow it up with code that you can experiment with. Obviously game theoretic approaches and evolutionary algorithms will be more complex, but this is an example."
   ]
  },
  {
   "cell_type": "code",
   "execution_count": null,
   "metadata": {},
   "outputs": [],
   "source": [
    "#First, install some libraries\n",
    "!conda install -y numpy\n",
    "!conda install -y matplotlib"
   ]
  },
  {
   "cell_type": "markdown",
   "metadata": {},
   "source": [
    "In the next cell, just change the NUM variable to how many ever rolls of two dies you want to simulate.\n",
    "What I'm about to do is write code to simulate the roll of two dies and observe the distribution.\n",
    "\n",
    "Step 1: Simulate NUM rolls of die 1  \n",
    "Step 2: Simulate NUM rolls of die 2  \n",
    "Step 3: Add results from STEP 1 and STEP 2  \n",
    "Step 4: Display results  "
   ]
  },
  {
   "cell_type": "code",
   "execution_count": 4,
   "metadata": {},
   "outputs": [
    {
     "name": "stdout",
     "output_type": "stream",
     "text": [
      "[4, 2, 3, 6, 1, 1, 5, 5, 1, 4, 6, 2, 2, 1, 2, 6, 5, 2, 5, 2, 3, 6, 5, 3, 2, 3, 1, 2, 5, 1, 4, 4, 1, 3, 1, 6, 6, 1, 6, 4, 5, 4, 4, 1, 2, 4, 5, 2, 2, 6, 6, 6, 3, 4, 3, 3, 2, 2, 1, 4, 3, 4, 4, 1, 6, 6, 4, 3, 3, 2, 2, 2, 2, 6, 6, 4, 5, 3, 1, 3, 4, 1, 4, 6, 3, 3, 5, 5, 2, 4, 4, 2, 1, 2, 3, 4, 2, 4, 2, 4, 5, 5, 4, 2, 5, 6, 4, 6, 6, 2, 1, 1, 6, 6, 2, 3, 4, 2, 3, 5, 4, 5, 4, 1, 3, 3, 3, 3, 4, 3, 1, 2, 6, 1, 1, 2, 4, 6, 6, 6, 1, 4, 4, 2, 6, 2, 6, 4, 2, 3, 2, 3, 4, 5, 3, 2, 4, 3, 3, 2, 2, 3, 3, 6, 5, 5, 3, 3, 4, 5, 1, 1, 3, 1, 6, 6, 4, 2, 1, 6, 5, 6, 3, 2, 2, 6, 3, 4, 5, 2, 1, 5, 6, 6, 3, 4, 5, 6, 1, 3, 3, 5, 3, 6, 6, 1, 2, 6, 1, 3, 6, 5, 2, 4, 3, 4, 6, 4, 3, 2, 2, 4, 1, 4, 5, 6, 5, 3, 3, 6, 2, 3, 6, 1, 5, 1, 2, 1, 1, 1, 2, 4, 3, 5, 2, 2, 5, 6, 4, 5, 4, 4, 6, 6, 6, 2, 6, 3, 5, 3, 2, 5, 2, 6, 5, 4, 3, 4, 1, 5, 6, 5, 2, 6, 5, 1, 2, 4, 1, 5, 6, 2, 5, 1, 2, 6, 4, 4, 6, 2, 1, 2, 4, 3, 5, 6, 2, 3, 3, 1, 1, 5, 2, 5, 3, 1, 2, 2, 5, 1, 1, 4, 5, 5, 3, 3, 6, 3, 2, 1, 1, 1, 5, 5, 2, 4, 1, 6, 1, 2, 3, 5, 6, 2, 1, 5, 4, 5, 6, 3, 3, 4, 4, 4, 2, 4, 6, 6, 3, 5, 4, 2, 1, 1, 1, 2, 5, 2, 5, 4, 1, 5, 6, 6, 5, 5, 4, 3, 6, 1, 6, 2, 4, 4, 4, 4, 2, 2, 1, 1, 6, 3, 1, 3, 3, 4, 2, 4, 1, 4, 1, 4, 4, 2, 3, 1, 4, 1, 4, 4, 1, 6, 4, 5, 3, 5, 2, 4, 4, 6, 5, 4, 3, 5, 5, 6, 5, 1, 5, 4, 6, 3, 4, 6, 4, 2, 5, 1, 3, 5, 4, 1, 2, 6, 1, 5, 2, 2, 4, 1, 3, 3, 4, 4, 3, 4, 5, 5, 1, 6, 1, 6, 1, 1, 5, 6, 5, 4, 1, 2, 1, 1, 6, 4, 3, 2, 3, 1, 1, 5, 2, 1, 3, 6, 3, 5, 6, 1, 1, 5, 6, 3, 1, 1, 1, 2, 6, 6, 1, 6, 5, 5, 6, 2, 4, 3, 4, 2, 4, 2, 4, 1, 4, 3, 1, 4, 2, 5, 4, 2, 4, 2, 6, 3, 1, 6, 6, 2, 2, 1, 2, 1, 6, 5, 4, 3, 1, 3, 2, 6, 1, 3, 1, 4, 4, 1, 5, 1, 4, 3, 2, 1, 1, 1, 3, 5, 6, 4, 3, 5, 2, 5, 6, 1, 4, 3, 5, 6, 2, 1, 4, 1, 5, 4, 1, 3, 3, 1, 3, 4, 1, 1, 6, 3, 2, 4, 4, 6, 2, 2, 2, 1, 2, 5, 3, 2, 6, 6, 3, 3, 5, 1, 4, 6, 5, 5, 1, 5, 6, 5, 3, 2, 6, 3, 5, 5, 6, 6, 3, 1, 4, 6, 3, 5, 3, 5, 2, 3, 5, 4, 5, 6, 3, 6, 2, 1, 2, 5, 3, 4, 2, 3, 2, 3, 6, 6, 6, 3, 6, 3, 6, 3, 2, 4, 5, 5, 4, 6, 4, 2, 6, 2, 4, 3, 4, 4, 3, 5, 3, 4, 4, 4, 4, 6, 2, 5, 6, 4, 6, 5, 3, 5, 2, 6, 6, 4, 4, 2, 3, 5, 2, 2, 2, 4, 3, 4, 3, 5, 3, 5, 6, 1, 4, 4, 6, 1, 5, 2, 6, 3, 1, 6, 3, 3, 4, 6, 3, 1, 6, 5, 5, 1, 5, 5, 6, 4, 5, 6, 3, 3, 1, 2, 4, 2, 2, 4, 6, 2, 5, 5, 5, 6, 2, 5, 2, 5, 3, 3, 4, 3, 5, 4, 6, 2, 5, 2, 4, 3, 1, 3, 5, 2, 4, 1, 4, 1, 1, 4, 2, 3, 4, 6, 4, 5, 4, 3, 5, 2, 6, 2, 1, 3, 2, 2, 4, 3, 6, 5, 3, 5, 2, 2, 5, 3, 2, 3, 1, 2, 6, 6, 4, 2, 4, 2, 4, 4, 3, 5, 6, 5, 6, 6, 1, 1, 6, 1, 6, 3, 2, 5, 3, 3, 1, 5, 3, 5, 3, 2, 5, 6, 5, 1, 2, 1, 6, 2, 3, 3, 2, 2, 5, 6, 4, 2, 5, 4, 1, 3, 3, 3, 2, 4, 5, 5, 5, 1, 5, 4, 4, 1, 1, 1, 2, 1, 2, 2, 5, 2, 6, 2, 1, 5, 4, 4, 3, 4, 5, 1, 2, 5, 2, 4, 3, 1, 3, 5, 6, 2, 3, 4, 4, 1, 5, 2, 5, 2, 2, 1, 2, 5, 4, 6, 5, 3, 3, 6, 1, 4, 6, 5, 4, 4, 2, 4, 1, 5, 2, 2, 1, 4, 2, 4, 3, 3, 3, 2, 1, 5, 1, 6, 3, 3, 1, 5, 2, 1, 5, 3, 4, 4, 1, 5, 2, 6, 6, 5, 5, 1, 4, 5, 1, 3, 6, 1, 4, 1, 2, 5, 1, 3, 6, 4, 4, 6, 6, 1, 2, 1, 6, 5, 6, 5, 1, 6, 1, 4, 5, 6, 2, 4, 1, 4, 2, 3, 6, 1, 2, 4, 1, 6, 4, 3, 5, 5, 5, 2, 2, 1, 1, 2, 4, 6, 6, 6, 3, 4, 2, 1, 1, 4]\n",
      "[1, 3, 6, 2, 2, 5, 4, 1, 6, 2, 2, 1, 4, 2, 5, 1, 1, 3, 1, 4, 4, 2, 2, 1, 6, 1, 5, 3, 1, 1, 2, 1, 6, 6, 3, 1, 3, 3, 2, 4, 5, 5, 6, 5, 6, 2, 5, 5, 3, 4, 3, 4, 2, 5, 1, 5, 6, 1, 6, 5, 3, 2, 6, 3, 2, 1, 5, 1, 3, 4, 4, 6, 5, 5, 6, 6, 3, 5, 4, 5, 5, 6, 5, 2, 4, 2, 5, 3, 2, 1, 1, 2, 3, 2, 5, 2, 2, 4, 6, 4, 5, 3, 1, 2, 6, 4, 6, 3, 6, 2, 3, 4, 5, 6, 3, 6, 1, 1, 3, 3, 2, 4, 5, 6, 6, 5, 6, 3, 4, 1, 1, 6, 6, 6, 6, 5, 1, 4, 5, 3, 1, 6, 2, 4, 5, 2, 4, 3, 4, 1, 1, 3, 4, 4, 4, 4, 3, 3, 3, 5, 4, 4, 1, 3, 6, 3, 1, 1, 2, 6, 5, 1, 1, 3, 4, 5, 6, 2, 2, 1, 6, 2, 1, 6, 3, 1, 3, 4, 2, 2, 3, 2, 3, 2, 3, 4, 6, 4, 1, 3, 1, 6, 3, 4, 1, 2, 1, 3, 3, 2, 3, 2, 5, 4, 6, 2, 2, 5, 4, 2, 4, 1, 5, 5, 3, 5, 6, 3, 2, 5, 2, 6, 6, 1, 1, 1, 4, 6, 6, 1, 6, 1, 3, 3, 5, 2, 2, 2, 2, 1, 1, 1, 2, 6, 1, 6, 5, 4, 6, 2, 5, 6, 3, 6, 3, 5, 2, 5, 5, 3, 1, 1, 5, 4, 1, 2, 3, 3, 2, 3, 5, 2, 4, 5, 5, 1, 1, 6, 2, 5, 4, 5, 5, 4, 1, 3, 1, 2, 2, 6, 1, 5, 3, 5, 6, 6, 2, 5, 4, 4, 1, 4, 2, 6, 3, 4, 4, 3, 4, 1, 1, 2, 1, 6, 6, 6, 4, 6, 1, 3, 3, 4, 4, 5, 1, 1, 1, 5, 1, 1, 5, 1, 2, 4, 1, 4, 4, 3, 6, 3, 5, 1, 1, 3, 1, 5, 5, 3, 2, 6, 6, 4, 5, 4, 1, 1, 4, 1, 5, 3, 1, 3, 5, 3, 1, 2, 3, 2, 1, 4, 1, 6, 4, 5, 3, 1, 1, 3, 5, 1, 1, 6, 6, 6, 1, 5, 1, 3, 6, 4, 3, 3, 3, 6, 2, 2, 1, 4, 2, 5, 5, 3, 5, 1, 1, 1, 6, 5, 3, 2, 2, 1, 4, 1, 6, 2, 3, 1, 4, 5, 6, 3, 5, 3, 2, 3, 3, 1, 2, 4, 4, 6, 4, 1, 3, 3, 4, 5, 3, 5, 1, 1, 5, 5, 2, 5, 1, 6, 2, 2, 3, 2, 5, 4, 5, 5, 5, 4, 2, 6, 2, 2, 4, 3, 1, 1, 2, 6, 6, 5, 4, 4, 4, 3, 1, 6, 5, 4, 2, 1, 2, 4, 3, 3, 1, 5, 1, 5, 6, 5, 1, 3, 3, 1, 6, 5, 4, 6, 5, 3, 1, 3, 3, 1, 5, 5, 2, 1, 2, 1, 5, 4, 5, 1, 2, 4, 6, 2, 2, 1, 2, 3, 1, 2, 4, 1, 6, 3, 2, 1, 2, 1, 6, 2, 4, 5, 5, 3, 5, 2, 2, 1, 2, 6, 5, 2, 3, 3, 6, 2, 2, 2, 4, 4, 1, 5, 6, 3, 4, 4, 6, 1, 1, 6, 4, 4, 1, 6, 4, 6, 5, 4, 6, 2, 1, 5, 4, 4, 5, 4, 3, 6, 3, 6, 4, 3, 6, 1, 3, 3, 6, 1, 3, 6, 3, 1, 1, 5, 4, 4, 3, 5, 2, 4, 2, 5, 4, 1, 1, 3, 1, 5, 1, 2, 3, 5, 3, 1, 3, 5, 3, 3, 6, 4, 1, 5, 2, 1, 4, 2, 3, 2, 6, 1, 4, 4, 2, 1, 4, 4, 5, 2, 5, 6, 3, 6, 4, 4, 5, 2, 2, 4, 1, 3, 3, 5, 2, 1, 3, 3, 4, 6, 3, 5, 6, 5, 2, 2, 5, 5, 3, 4, 3, 3, 4, 4, 5, 3, 2, 4, 2, 3, 5, 4, 4, 6, 2, 4, 5, 1, 2, 6, 3, 6, 1, 1, 2, 2, 3, 4, 1, 6, 2, 5, 1, 2, 6, 1, 3, 5, 4, 1, 2, 1, 1, 1, 3, 4, 3, 3, 6, 2, 4, 5, 2, 2, 3, 5, 3, 6, 1, 3, 4, 5, 5, 1, 5, 6, 2, 6, 6, 2, 3, 1, 3, 5, 6, 3, 3, 5, 4, 1, 3, 1, 3, 3, 1, 5, 5, 2, 1, 2, 3, 4, 1, 1, 2, 4, 4, 5, 5, 1, 5, 3, 4, 4, 4, 1, 2, 4, 4, 2, 4, 4, 2, 5, 6, 2, 1, 2, 3, 4, 3, 4, 6, 2, 4, 1, 4, 6, 6, 4, 4, 4, 2, 6, 3, 1, 1, 4, 6, 3, 6, 1, 6, 6, 6, 5, 1, 3, 3, 4, 5, 6, 1, 1, 5, 3, 2, 4, 3, 2, 5, 2, 6, 3, 4, 1, 3, 5, 1, 4, 6, 2, 6, 2, 3, 5, 4, 2, 5, 1, 5, 5, 3, 3, 6, 1, 1, 3, 5, 3, 1, 6, 2, 1, 2, 1, 4, 4, 5, 5, 5, 2, 2, 4, 2, 2, 5, 2, 1, 2, 2, 1, 6, 6, 5, 4, 2, 5, 5, 6, 5, 2, 6, 4, 1, 1, 6, 5, 1, 3, 6, 4, 2, 1, 4, 6, 4, 3, 2, 5, 2, 6, 5, 2, 2, 5, 2, 1, 4, 4, 1, 2, 1, 1, 1, 3, 2, 1, 3, 6, 1, 4, 5, 4, 1, 6, 6, 2, 5, 5, 6, 5, 4, 2, 1, 2, 6, 5, 1, 5, 1, 4, 2, 4, 3, 6, 2, 2, 5, 4, 4, 2, 1, 2, 4, 6, 4, 6, 5, 5, 2, 5, 2, 5, 4, 6, 5, 4, 4, 3, 1, 2, 5, 4, 1, 6, 3, 5]\n"
     ]
    },
    {
     "data": {
      "text/plain": [
       "(array([ 33.,   0.,  60.,   0.,  88.,   0., 111.,   0., 146.,   0., 169.,\n",
       "          0., 136.,   0., 107.,   0.,  75.,   0.,  57.,   0.,  18.]),\n",
       " array([ 1.7,  2.3,  2.7,  3.3,  3.7,  4.3,  4.7,  5.3,  5.7,  6.3,  6.7,\n",
       "         7.3,  7.7,  8.3,  8.7,  9.3,  9.7, 10.3, 10.7, 11.3, 11.7, 12.3]),\n",
       " <a list of 21 Patch objects>)"
      ]
     },
     "execution_count": 4,
     "metadata": {},
     "output_type": "execute_result"
    },
    {
     "data": {
      "image/png": "[encoded data removed]",
      "text/plain": [
       "<Figure size 720x720 with 1 Axes>"
      ]
     },
     "metadata": {},
     "output_type": "display_data"
    }
   ],
   "source": [
    "#This is how many times we will roll both dies. You only need to change this variable.\n",
    "NUM = 1000\n",
    "\n",
    "import numpy as np\n",
    "import matplotlib.pyplot as plt\n",
    "np.random.seed(100)\n",
    "\n",
    "def roll_a_die(number_of_rolls):\n",
    "    randoms = [np.random.random() for i in range(number_of_rolls)]\n",
    "    divisions = np.array([i/6 for i in range(1,7)])\n",
    "    die_vals = [i for i in range(1,7)]\n",
    "    vals = [die_vals[np.argmax(divisions > i)] for i in randoms]\n",
    "    return vals\n",
    "\n",
    "die_1 = roll_a_die(NUM)\n",
    "die_2 = roll_a_die(NUM)\n",
    "total_both_dies = [die_1[i] + die_2[i] for i in range(NUM)]\n",
    "\n",
    "plt.figure(figsize=(10,10))\n",
    "bins = list()\n",
    "for i in range(2,13):\n",
    "    bins.append(i-0.3)\n",
    "    bins.append(i+0.3)\n",
    "    \n",
    "plt.hist(total_both_dies, bins=bins)"
   ]
  },
  {
   "cell_type": "code",
   "execution_count": null,
   "metadata": {},
   "outputs": [],
   "source": []
  }
 ],
 "metadata": {
  "kernelspec": {
   "display_name": "Python 3",
   "language": "python",
   "name": "python3"
  },
  "language_info": {
   "codemirror_mode": {
    "name": "ipython",
    "version": 3
   },
   "file_extension": ".py",
   "mimetype": "text/x-python",
   "name": "python",
   "nbconvert_exporter": "python",
   "pygments_lexer": "ipython3",
   "version": "3.6.6"
  },
  "latex_envs": {
   "LaTeX_envs_menu_present": true,
   "autocomplete": true,
   "bibliofile": "biblio.bib",
   "cite_by": "apalike",
   "current_citInitial": 1,
   "eqLabelWithNumbers": false,
   "eqNumInitial": 1,
   "hotkeys": {
    "equation": "Ctrl-E",
    "itemize": "Ctrl-I"
   },
   "labels_anchors": false,
   "latex_user_defs": false,
   "report_style_numbering": false,
   "user_envs_cfg": false
  }
 },
 "nbformat": 4,
 "nbformat_minor": 2
}
