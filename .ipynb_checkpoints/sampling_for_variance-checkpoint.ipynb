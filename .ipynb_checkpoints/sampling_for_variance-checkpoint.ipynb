{
 "cells": [
  {
   "cell_type": "markdown",
   "metadata": {},
   "source": [
    "## Libraries Needed"
   ]
  },
  {
   "cell_type": "code",
   "execution_count": 1,
   "metadata": {
    "collapsed": true
   },
   "outputs": [],
   "source": [
    "import numpy as np\n",
    "import sys\n",
    "import os\n",
    "import random\n",
    "from joblib import Parallel, delayed\n",
    "import multiprocessing\n",
    "from scipy.stats import chi2\n",
    "import matplotlib.pyplot as plt\n",
    "from ipywidgets import widgets, interactive\n",
    "from IPython.core.debugger import Tracer"
   ]
  },
  {
   "cell_type": "markdown",
   "metadata": {},
   "source": [
    "## Initialize arrays"
   ]
  },
  {
   "cell_type": "code",
   "execution_count": 2,
   "metadata": {
    "collapsed": false
   },
   "outputs": [],
   "source": [
    "num_samples = 1000\n",
    "A_list = list()\n",
    "B_list = list()\n",
    "C_list = list()\n",
    "def initialize_lists():\n",
    "    A = np.random.normal(0,1,(32,512))\n",
    "    B = np.random.normal(0,1,(512,32))\n",
    "    C = np.dot(A,B).flatten()\n",
    "    return [A, B, C]\n",
    "    \n",
    "all_data = list()\n",
    "for i in range(num_samples):\n",
    "    all_data.append(initialize_lists())\n"
   ]
  },
  {
   "cell_type": "markdown",
   "metadata": {},
   "source": [
    "### For each sample, sample, calculate upper confidence interval of variance.\n",
    "\n",
    "\n",
    "$$\\bar{X} - \\frac{t_{\\frac{\\alpha}{2},\\;n-1}\\;s}{\\sqrt{n}} \\leq \\bar{X} \\leq \\bar{X} + \\frac{t_{\\frac{\\alpha}{2},\\;n-1}\\;s}{\\sqrt{n}}$$\n",
    "The assumption underlying this CI is that we are sampling from a normal population. HOwever, the t distribution-based CI is relatively insenstivie or robust to this assumption.\n",
    "\n",
    "\n",
    "$$\\frac{(n-1)s^2}{\\chi^2_{\\frac{\\alpha}{2},\\;n-1}} \\leq \\sigma^2 \\leq \\frac{(n-1)s^2}{\\chi^2_{\\frac{1-\\alpha}{2},\\;n-1}}$$\n",
    "This CI is less robust to the normality assumption. The distribution of $(n-1)S^2/\\sigma^2$ can be very different from the chi-square if the underlying population is not normal.\n"
   ]
  },
  {
   "cell_type": "code",
   "execution_count": 8,
   "metadata": {
    "collapsed": false
   },
   "outputs": [],
   "source": [
    "def get_stats_for_var_estimates(alpha, ns):\n",
    "    act_var = list()\n",
    "    est_var = list()\n",
    "    res = list()\n",
    "    for i in range(num_samples):\n",
    "        act_var.append(np.var(all_data[i][2]))\n",
    "        samples = np.random.choice(all_data[i][2], ns, replace = False)\n",
    "        chi_val = chi2.isf(alpha, ns-1)\n",
    "        est_var.append((ns-1)*np.var(samples)/chi_val)\n",
    "        res.append(act_var[i] - est_var[i])\n",
    "    return act_var, est_var, res\n",
    "\n",
    "def plot_stat_graphs(alpha, ns):\n",
    "    act_var, est_var, res = get_stats_for_var_estimates(alpha, ns)\n",
    "    plt.figure()\n",
    "    plt.hist(np.abs(res), 10, normed=0, facecolor='red', rwidth = 0.9)\n",
    "    plt.title('Histogram of residuals')\n",
    "    plt.figure()\n",
    "    plt.hist(act_var, 10, normed=0, facecolor = 'blue', rwidth = 0.9)\n",
    "    plt.title('Histogram of actual variances')\n",
    "    plt.show()\n",
    "    \n",
    "#plot_stat_graphs(0.95,100)"
   ]
  },
  {
   "cell_type": "markdown",
   "metadata": {},
   "source": [
    "## Explore how confidence and number of samples affect the residuals"
   ]
  },
  {
   "cell_type": "code",
   "execution_count": 9,
   "metadata": {
    "collapsed": false
   },
   "outputs": [
    {
     "data": {
      "image/png": "[encoded data removed]",
      "text/plain": [
       "<matplotlib.figure.Figure at 0x1abf7ac8>"
      ]
     },
     "metadata": {},
     "output_type": "display_data"
    },
    {
     "data": {
      "image/png": "[encoded data removed]",
      "text/plain": [
       "<matplotlib.figure.Figure at 0x199846a0>"
      ]
     },
     "metadata": {},
     "output_type": "display_data"
    }
   ],
   "source": [
    "samp_size_widget = widgets.IntSlider(\n",
    "    value=100,\n",
    "    min=0,\n",
    "    max=1024,\n",
    "    step=10,\n",
    "    description='Num_samples',\n",
    "    disabled=False,\n",
    "    continuous_update=False,\n",
    "    orientation='horizontal',\n",
    "    readout=True,\n",
    "    readout_format='d'\n",
    ")\n",
    "\n",
    "alpha_widget = widgets.FloatSlider(\n",
    "    value=0.95,\n",
    "    min=0.7,\n",
    "    max=0.99,\n",
    "    step=0.01,\n",
    "    description='alpha',\n",
    "    disabled=False,\n",
    "    continuous_update=False,\n",
    "    orientation='horizontal',\n",
    "    readout=True,\n",
    "    readout_format='.2f',\n",
    ")\n",
    "\n",
    "interactive(plot_stat_graphs, alpha = alpha_widget, ns = samp_size_widget)"
   ]
  },
  {
   "cell_type": "code",
   "execution_count": null,
   "metadata": {
    "collapsed": true
   },
   "outputs": [],
   "source": []
  }
 ],
 "metadata": {
  "kernelspec": {
   "display_name": "Python 3",
   "language": "python",
   "name": "python3"
  },
  "language_info": {
   "codemirror_mode": {
    "name": "ipython",
    "version": 3
   },
   "file_extension": ".py",
   "mimetype": "text/x-python",
   "name": "python",
   "nbconvert_exporter": "python",
   "pygments_lexer": "ipython3",
   "version": "3.4.5"
  },
  "latex_envs": {
   "LaTeX_envs_menu_present": true,
   "bibliofile": "biblio.bib",
   "cite_by": "apalike",
   "current_citInitial": 1,
   "eqLabelWithNumbers": false,
   "eqNumInitial": 1,
   "hotkeys": {},
   "labels_anchors": false,
   "latex_user_defs": false,
   "report_style_numbering": false,
   "user_envs_cfg": false
  },
  "widgets": {
   "state": {
    "bcff40a792fe4bcb9920195b7932f269": {
     "views": [
      {
       "cell_index": 7
      }
     ]
    }
   },
   "version": "1.2.0"
  }
 },
 "nbformat": 4,
 "nbformat_minor": 2
}
