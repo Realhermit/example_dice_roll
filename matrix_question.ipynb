{
 "cells": [
  {
   "cell_type": "code",
   "execution_count": 73,
   "metadata": {
    "collapsed": true
   },
   "outputs": [],
   "source": [
    "import numpy as np\n",
    "import scipy \n",
    "import matplotlib.pyplot as plt"
   ]
  },
  {
   "cell_type": "code",
   "execution_count": 74,
   "metadata": {
    "collapsed": true
   },
   "outputs": [],
   "source": [
    "mu_A, sigma_A = 10, 1\n",
    "mu_B, sigma_B = 7, 0.1\n",
    "A=np.array(np.random.normal(mu_A, sigma_A, 4000000)).reshape((4000, 1000))\n",
    "B=np.array(np.random.normal(mu_B, sigma_B, 6000000)).reshape((1000, 6000))\n",
    "sumA=np.sum(A)\n",
    "sumB=np.sum(B)"
   ]
  },
  {
   "cell_type": "code",
   "execution_count": 75,
   "metadata": {
    "collapsed": true
   },
   "outputs": [],
   "source": [
    "C=np.dot(A,B)"
   ]
  },
  {
   "cell_type": "code",
   "execution_count": 76,
   "metadata": {
    "collapsed": true
   },
   "outputs": [],
   "source": [
    "varA=np.var(A)\n",
    "varB=np.var(B)\n",
    "meanA=np.mean(A)\n",
    "meanB=np.mean(B)"
   ]
  },
  {
   "cell_type": "code",
   "execution_count": 77,
   "metadata": {
    "collapsed": false
   },
   "outputs": [
    {
     "name": "stdout",
     "output_type": "stream",
     "text": [
      "actual mean of C is 70008.3637333\n",
      "estimated mean of C is 70008.3637542\n"
     ]
    }
   ],
   "source": [
    "print(\"actual mean of C is\", np.mean(C))\n",
    "print(\"estimated mean of C is\", 1000*(meanA*meanB))"
   ]
  },
  {
   "cell_type": "code",
   "execution_count": 78,
   "metadata": {
    "collapsed": false
   },
   "outputs": [
    {
     "name": "stdout",
     "output_type": "stream",
     "text": [
      "actual variance of C is 49992.5227039\n",
      "estimated variance of C is 49987.5886968\n"
     ]
    }
   ],
   "source": [
    "print(\"actual variance of C is\", np.var(C))\n",
    "print(\"estimated variance of C is\", 1000*(meanB**2*varA+meanA**2*varB+varA*varB))\n",
    "estvarC=1000*(meanB**2*varA+meanA**2*varB+varA*varB)"
   ]
  },
  {
   "cell_type": "code",
   "execution_count": 79,
   "metadata": {
    "collapsed": false
   },
   "outputs": [
    {
     "name": "stdout",
     "output_type": "stream",
     "text": [
      "estimated max of C is 71311.7956144\n",
      "actual max of C is 71059.6112576\n",
      "percent error of max is 0.00354891269968\n"
     ]
    }
   ],
   "source": [
    "print(\"estimated max of C is\", np.sqrt(estvarC)*np.sqrt(2*np.log(4000*6000))+meanA*meanB*1000)\n",
    "print(\"actual max of C is\", np.max(C))\n",
    "print(\"percent error of max is\", (np.sqrt(estvarC)*np.sqrt(2*np.log(4000*6000))+meanA*meanB*1000-np.max(C))/np.max(C))"
   ]
  },
  {
   "cell_type": "code",
   "execution_count": 80,
   "metadata": {
    "collapsed": false
   },
   "outputs": [
    {
     "data": {
      "image/png": "[encoded data removed]",
      "text/plain": [
       "<matplotlib.figure.Figure at 0x3b0c6921d0>"
      ]
     },
     "metadata": {},
     "output_type": "display_data"
    }
   ],
   "source": [
    "Carray=C.reshape(24000000,1)\n",
    "count, bins, ignored = plt.hist(Carray, 300, normed=True)\n",
    "plt.plot(bins, 1/(np.std(C) * np.sqrt(2 * np.pi)) * np.exp( - (bins - np.mean(C))**2 / (2 * np.std(C)**2) ), linewidth=2, color='r')\n",
    "plt.show()"
   ]
  },
  {
   "cell_type": "code",
   "execution_count": null,
   "metadata": {
    "collapsed": true
   },
   "outputs": [],
   "source": []
  }
 ],
 "metadata": {
  "kernelspec": {
   "display_name": "Python 3",
   "language": "python",
   "name": "python3"
  },
  "language_info": {
   "codemirror_mode": {
    "name": "ipython",
    "version": 3
   },
   "file_extension": ".py",
   "mimetype": "text/x-python",
   "name": "python",
   "nbconvert_exporter": "python",
   "pygments_lexer": "ipython3",
   "version": "3.4.5"
  },
  "latex_envs": {
   "LaTeX_envs_menu_present": true,
   "bibliofile": "biblio.bib",
   "cite_by": "apalike",
   "current_citInitial": 1,
   "eqLabelWithNumbers": false,
   "eqNumInitial": 1,
   "hotkeys": {},
   "labels_anchors": false,
   "latex_user_defs": false,
   "report_style_numbering": false,
   "user_envs_cfg": false
  }
 },
 "nbformat": 4,
 "nbformat_minor": 2
}
